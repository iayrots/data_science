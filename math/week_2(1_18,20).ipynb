{
 "cells": [
  {
   "cell_type": "markdown",
   "metadata": {},
   "source": [
    "# 행렬의 성질"
   ]
  },
  {
   "cell_type": "markdown",
   "metadata": {},
   "source": [
    "## 행렬의 부호\n",
    "- 영 벡터가 아닌 모든 벡터 $x$ 에 대해 0보다 크면 행렬 $A$ 가 **양-정부호(positive definite)**이라고 한다.\n",
    "\n",
    "$$\n",
    "x^T A x > 0\n",
    "$$\n",
    "\n",
    "- 위의 식이 등호를 포함한다면 **양-준정부호(positive semi-definite)**이라고 한다.\n",
    "\n",
    "$$\n",
    "x^T A x \\geq 0\n",
    "$$"
   ]
  },
  {
   "cell_type": "markdown",
   "metadata": {},
   "source": [
    "### <연습 문제 1>\n",
    "다음 행렬을 양-정부호, 양-준정부호 혹은 아무것도 해당되지 않는지 판단하라.\n",
    "\n",
    "$$\n",
    "\\begin{bmatrix} 1 & 1 \\\\ 1 & 1 \\end{bmatrix}\n",
    "$$"
   ]
  },
  {
   "cell_type": "code",
   "execution_count": null,
   "metadata": {},
   "outputs": [],
   "source": []
  }
 ],
 "metadata": {
  "kernelspec": {
   "display_name": "Python 3",
   "language": "python",
   "name": "python3"
  },
  "language_info": {
   "codemirror_mode": {
    "name": "ipython",
    "version": 3
   },
   "file_extension": ".py",
   "mimetype": "text/x-python",
   "name": "python",
   "nbconvert_exporter": "python",
   "pygments_lexer": "ipython3",
   "version": "3.6.4"
  }
 },
 "nbformat": 4,
 "nbformat_minor": 2
}
