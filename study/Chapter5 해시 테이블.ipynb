{
 "cells": [
  {
   "cell_type": "markdown",
   "metadata": {},
   "source": [
    "## 02 해시 함수\n",
    "문자열을 받아서 숫자를 반환하는 함수\n",
    "\n",
    "- 일관성 --> 같은 이름에 대해서는 항상 같은 인덱스를 할당\n",
    "- 서로 다른 단어에 대해 모두 서로 다른 숫자가 나와야 함. --> 다른 문자열에 대해서는 다른 인덱스를 할당\n",
    "- 배열의 크기를 알고 유효하 인덱스만 반환\n",
    "- **해시 테이블**\n",
    "\n",
    "    - 해시 함수와 배열을 합친 자료구조\n",
    "    - 해시 맵(hash maps), 맵(maps), 딕셔너리(dictionaries), 연관 배열(associative arrays) 이라고도 부름.\n",
    "    - 속도가 빠름.\n",
    "    - 키(key)와 값(value)을 가짐.\n",
    "        - 예) python : 딕셔너리(dictionary)\n",
    "    - 어떤 항목과 다른 항목 간의 관계를 쉽게 모형화"
   ]
  },
  {
   "cell_type": "code",
   "execution_count": 1,
   "metadata": {},
   "outputs": [
    {
     "data": {
      "text/plain": [
       "{'apple': 0.67, 'avocado': 1.49, 'milk': 1.49}"
      ]
     },
     "execution_count": 1,
     "metadata": {},
     "output_type": "execute_result"
    }
   ],
   "source": [
    "# 제품 가격을 담고 있는 해시 테이블\n",
    "book = dict()  \n",
    "book[\"apple\"] = 0.67\n",
    "book[\"milk\"] = 1.49\n",
    "book[\"avocado\"] = 1.49\n",
    "book"
   ]
  },
  {
   "cell_type": "code",
   "execution_count": 2,
   "metadata": {},
   "outputs": [
    {
     "data": {
      "text/plain": [
       "1.49"
      ]
     },
     "execution_count": 2,
     "metadata": {},
     "output_type": "execute_result"
    }
   ],
   "source": [
    "book[\"avocado\"]"
   ]
  },
  {
   "cell_type": "markdown",
   "metadata": {},
   "source": [
    "## 03 해시 테이블을 사용하는 예"
   ]
  },
  {
   "cell_type": "markdown",
   "metadata": {},
   "source": [
    "### 해시 테이블로 조회하기"
   ]
  },
  {
   "cell_type": "code",
   "execution_count": 3,
   "metadata": {},
   "outputs": [
    {
     "data": {
      "text/plain": [
       "8675309"
      ]
     },
     "execution_count": 3,
     "metadata": {},
     "output_type": "execute_result"
    }
   ],
   "source": [
    "# 전화번호부\n",
    "phone_book = {}\n",
    "phone_book[\"jenny\"] = 8675309\n",
    "phone_book[\"emergency\"] = 911\n",
    "phone_book[\"jenny\"]"
   ]
  },
  {
   "cell_type": "markdown",
   "metadata": {},
   "source": [
    "### 중복된 항목을 방지하기"
   ]
  },
  {
   "cell_type": "code",
   "execution_count": 4,
   "metadata": {},
   "outputs": [],
   "source": [
    "# 투표소 관리\n",
    "voted = {}\n",
    "\n",
    "def check_voter(name):\n",
    "    if voted.get(name):\n",
    "        print(\"돌려 보내세요!\")\n",
    "    else:\n",
    "        voted[name] = True\n",
    "        print(\"투표하게 하세요.\")"
   ]
  },
  {
   "cell_type": "code",
   "execution_count": 5,
   "metadata": {},
   "outputs": [
    {
     "name": "stdout",
     "output_type": "stream",
     "text": [
      "투표하게 하세요.\n"
     ]
    }
   ],
   "source": [
    "check_voter(\"tom\")"
   ]
  },
  {
   "cell_type": "code",
   "execution_count": 6,
   "metadata": {},
   "outputs": [
    {
     "name": "stdout",
     "output_type": "stream",
     "text": [
      "투표하게 하세요.\n"
     ]
    }
   ],
   "source": [
    "check_voter(\"mike\")"
   ]
  },
  {
   "cell_type": "code",
   "execution_count": 7,
   "metadata": {},
   "outputs": [
    {
     "name": "stdout",
     "output_type": "stream",
     "text": [
      "돌려 보내세요!\n"
     ]
    }
   ],
   "source": [
    "check_voter(\"mike\")"
   ]
  },
  {
   "cell_type": "markdown",
   "metadata": {},
   "source": [
    "### 해시 테이블을 캐시로 사용하기\n",
    "캐싱(caching) : 정보를 다시 계산하지 않고 저장했다가 알려주는 것\n",
    "- 작업속도가 빠르다\n",
    "- 작업량이 줄어든다"
   ]
  },
  {
   "cell_type": "code",
   "execution_count": 8,
   "metadata": {},
   "outputs": [],
   "source": [
    "cache = {}\n",
    "\n",
    "def get_page(url):\n",
    "    if cache.get(url):\n",
    "        return cache[url]                  # 캐싱된 자료를 전송\n",
    "    else:\n",
    "        data = get_data_from_sever(url)    \n",
    "        cache[url] = data                  # 캐시에 처음으로 자료를 저장\n",
    "        return data"
   ]
  },
  {
   "cell_type": "markdown",
   "metadata": {},
   "source": [
    "### 해시 테이블의 장점\n",
    "1. 어떤것과 다른 것 사이의 관계를 모형화할 수 있다.\n",
    "2. 중복을 막을 수 있다.\n",
    "3. 서버에게 작업을 시키지 않고 자료를 캐싱할 수 있다."
   ]
  },
  {
   "cell_type": "markdown",
   "metadata": {},
   "source": [
    "## 04 충돌\n",
    "- 두 개의 키(key)가 같은 공간에 할당되는 것\n",
    "- 충돌을 피하려면 다음과 같은 것이 필요\n",
    "    1. 낮은 사용률\n",
    "    2. 좋은 해시 함수 "
   ]
  },
  {
   "cell_type": "markdown",
   "metadata": {},
   "source": [
    "## 05 성능\n",
    "\n",
    "해시 테이블의 성능 비교\n",
    "\n",
    "|| 해시 테이블(평균적인 경우) | 해시 테이블(최악의 경우) | 배열(Chapter2) | 연결 리스트(Chapter2) |\n",
    "|-|-|-|-|-|\n",
    "| 탐색 | $O(1)$ | $O(n)$ | $O(1)$ | $O(n)$ |\n",
    "| 삽입 | $O(1)$ | $O(n)$ | $O(n)$ | $O(1)$ |\n",
    "| 삭제 | $O(1)$ | $O(n)$ | $O(n)$ | $O(1)$ |\n",
    "* $O(1)$ : 상수 시간(constant time), 항상 똑같은 일정한 시간이 걸린다는 뜻"
   ]
  },
  {
   "cell_type": "markdown",
   "metadata": {},
   "source": [
    "#### 사용률(load factor)\n",
    "\n",
    "- $\\dfrac{해시 테이블에 있는 항목의 수}{해시 테이블에 있는 공간의 수}$\n",
    "\n",
    "\n",
    "- 사용률이 낮을 수록 충돌 최소화, 해시 테이블의 성능도 좋아짐.\n",
    "\n",
    "\n",
    "- 일반적으로 사용률이 0.7보다 커지면 리사이징(resizing) 함."
   ]
  },
  {
   "cell_type": "markdown",
   "metadata": {},
   "source": [
    "#### 좋은 해시 함수\n",
    "\n",
    "- 배열에 값을 고루 분포시키는 함수"
   ]
  }
 ],
 "metadata": {
  "kernelspec": {
   "display_name": "Python 3",
   "language": "python",
   "name": "python3"
  },
  "language_info": {
   "codemirror_mode": {
    "name": "ipython",
    "version": 3
   },
   "file_extension": ".py",
   "mimetype": "text/x-python",
   "name": "python",
   "nbconvert_exporter": "python",
   "pygments_lexer": "ipython3",
   "version": "3.6.4"
  }
 },
 "nbformat": 4,
 "nbformat_minor": 2
}
