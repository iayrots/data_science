{
 "cells": [
  {
   "cell_type": "markdown",
   "metadata": {},
   "source": [
    "## 01 분할 정복\n",
    "- 재귀적 알고리즘\n",
    "- 문제에 바로 적용할 수 있는 단순한 알고리즘이 아니라, 문제를 풀기 위한 방법론\n",
    "    \n",
    "    1. 가장 간단한 경우로 기본 단계를 찾는다.\n",
    "    2. 주어진 문제를 작게 줄여서 기본 단계가 되도록 만드는 법을 찾는다."
   ]
  },
  {
   "cell_type": "code",
   "execution_count": 2,
   "metadata": {},
   "outputs": [
    {
     "name": "stdout",
     "output_type": "stream",
     "text": [
      "10\n"
     ]
    }
   ],
   "source": [
    "# 반복문을 이용한 합계 구하기\n",
    "def sum_1(arr):\n",
    "    total = 0\n",
    "    for x in arr:\n",
    "        total += x\n",
    "    return total\n",
    "\n",
    "print(sum_1([1, 2, 3, 4]))"
   ]
  },
  {
   "cell_type": "code",
   "execution_count": 3,
   "metadata": {},
   "outputs": [
    {
     "name": "stdout",
     "output_type": "stream",
     "text": [
      "10\n"
     ]
    }
   ],
   "source": [
    "# 재귀함수를 이용한 합계 구하기\n",
    "def sum_2(list):\n",
    "    if list == []:\n",
    "        return 0\n",
    "    return list[0] + sum_2(list[1:])\n",
    "\n",
    "print(sum_2([1, 2, 3, 4]))"
   ]
  },
  {
   "cell_type": "markdown",
   "metadata": {},
   "source": [
    "## 02 퀵 정렬\n",
    "- 정렬 알고리즘\n",
    "- 분할 정복 전략의 좋은 예\n",
    "- 귀납적 증명\n",
    "\n",
    "    1. 기준 원소를 고른다.\n",
    "    2. 배열을 기준 원소보다 작은 원소의 배열과 기중 원소보다 큰 원소의 배열, 이렇게 두 개의 하위 배열로 분할한다.\n",
    "    3. 하위 배열에 대해 재귀적으로 퀵 정렬을 호출한다."
   ]
  },
  {
   "cell_type": "code",
   "execution_count": 10,
   "metadata": {},
   "outputs": [
    {
     "data": {
      "text/plain": [
       "[2, 3, 5, 10]"
      ]
     },
     "execution_count": 10,
     "metadata": {},
     "output_type": "execute_result"
    }
   ],
   "source": [
    "def quicksort(array):\n",
    "    if len(array) < 2:                                         # 기본 단계                 \n",
    "        return array\n",
    "    else:                                                      # 재귀 단계\n",
    "        pivot = array[0]                                       # 기준 원소(첫번째 원소) \n",
    "        less = [i for i in array[1:] if i <= pivot]            # 기준 원소보다 작거나 같은 모든 원소로 이루어진 하위 배열\n",
    "        greater = [i for i in array[1:] if i > pivot]          # 기준 원소보다 큰 모든 원소로 이루어진 하위 배열 \n",
    "        return quicksort(less) + [pivot] + quicksort(greater)\n",
    "    \n",
    "quicksort([10, 5, 2, 3])"
   ]
  },
  {
   "cell_type": "markdown",
   "metadata": {},
   "source": [
    "## 03 빅오 표기법 복습\n",
    "\n",
    "\n",
    "|  알고리즘  |  이진 탐색  |  단순 탐색  |  퀵 정렬  |  선택 정렬  |  외판원 문제  |\n",
    "|:-----:|:-----:|:-----:|:-----:|:-----:|:-----:|\n",
    "| 배열 크기 |  O(logn) |  $O(n)$  |  O(nlogn)  |  $O(n^2)$  |  $O(n!)$ |\n"
   ]
  },
  {
   "cell_type": "markdown",
   "metadata": {},
   "source": [
    "## 연습문제"
   ]
  },
  {
   "cell_type": "code",
   "execution_count": 18,
   "metadata": {},
   "outputs": [
    {
     "name": "stdout",
     "output_type": "stream",
     "text": [
      "15\n"
     ]
    }
   ],
   "source": [
    "# 4-1\n",
    "def sum(list):\n",
    "    if list == []:\n",
    "        return 0\n",
    "    return list[0] + sum(list[1:])\n",
    "\n",
    "print(sum([1, 2, 3, 4, 5]))"
   ]
  },
  {
   "cell_type": "code",
   "execution_count": 16,
   "metadata": {},
   "outputs": [
    {
     "name": "stdout",
     "output_type": "stream",
     "text": [
      "4\n"
     ]
    }
   ],
   "source": [
    "# 4-2\n",
    "def count(list):\n",
    "    if list == []:\n",
    "        return 0\n",
    "    return 1 + count(list[1:])\n",
    "\n",
    "print(count([1, 2, 3, 4]))"
   ]
  },
  {
   "cell_type": "code",
   "execution_count": 17,
   "metadata": {},
   "outputs": [
    {
     "name": "stdout",
     "output_type": "stream",
     "text": [
      "5\n"
     ]
    }
   ],
   "source": [
    "# 4-3\n",
    "def max(list):\n",
    "    if len(list) == 2:\n",
    "        return list[0] if list[0] > list[1] else list[1]\n",
    "    sub_max = max(list[1:])\n",
    "    return list[0] if list[0] > sub_max else sub_max\n",
    "\n",
    "print(max([1, 2, 3, 4, 5]))"
   ]
  },
  {
   "cell_type": "code",
   "execution_count": null,
   "metadata": {},
   "outputs": [],
   "source": []
  }
 ],
 "metadata": {
  "kernelspec": {
   "display_name": "Python 3",
   "language": "python",
   "name": "python3"
  },
  "language_info": {
   "codemirror_mode": {
    "name": "ipython",
    "version": 3
   },
   "file_extension": ".py",
   "mimetype": "text/x-python",
   "name": "python",
   "nbconvert_exporter": "python",
   "pygments_lexer": "ipython3",
   "version": "3.6.4"
  }
 },
 "nbformat": 4,
 "nbformat_minor": 2
}
