{
 "cells": [
  {
   "cell_type": "markdown",
   "metadata": {},
   "source": [
    "## 01 시작하기에 앞서\n",
    "- 의사코드(pseudocode) : 문제와 풀이 방법을 간단한 코드 형태로 설명한 것. 코드처럼 보이지만 실제로는 우리가 사용하는 말과 비슷하다."
   ]
  },
  {
   "cell_type": "markdown",
   "metadata": {},
   "source": [
    "## 02 재귀\n",
    "- 풀이를 더 명확하게 만들어 줌\n",
    "- 성능이 더 나아지지는 않음\n",
    "- \"프로그램에 반복문을 사용하면 프로그램의 성능을 향상시킬 수 있지만, 재귀를 사용하면 프로그래머의 능력을 향상시킬 수 있습니다.\""
   ]
  },
  {
   "cell_type": "code",
   "execution_count": 1,
   "metadata": {},
   "outputs": [],
   "source": [
    "# 1. while 반복문\n",
    "def look_for_key_1(main_box):\n",
    "    pile = main_box.make_a_pile_to_look_through()\n",
    "    while pile is not empty:\n",
    "        box = pile.grab_a_box()\n",
    "        for item in box:\n",
    "            if item.is_a_box():\n",
    "                pile.append(item)\n",
    "            elif item.is_a_key():\n",
    "                print(\"열쇠를 찾았어요!\")"
   ]
  },
  {
   "cell_type": "code",
   "execution_count": 9,
   "metadata": {},
   "outputs": [],
   "source": [
    "# 2. 재귀\n",
    "def look_for_key_2(box):\n",
    "    for item in box:\n",
    "        if item.is_a_box():\n",
    "            look_for_key(item)\n",
    "        elif item.is_a_key():\n",
    "            print(\"열쇠를 찾았어요!\")"
   ]
  },
  {
   "cell_type": "markdown",
   "metadata": {},
   "source": [
    "## 03 기본 단계와 재귀 단계\n",
    "- 재귀 하무는 자기 자신을 호출하기 때문에 실수로 무한 반복을 하는 함수를 만들기 쉬움. --> 언제 멈출지 알려줘야 한다!!\n",
    "- 모든 재귀 함수는 기본 단계와 재귀 단계라는 두 부분으로 나누어짐.\n",
    "- 재귀 단계 : 함수가 자기 자신을 호출하는 부분\n",
    "- 기본 단계 : 무한 반복으로 빠져들지 않게 하는 부분"
   ]
  },
  {
   "cell_type": "code",
   "execution_count": 5,
   "metadata": {},
   "outputs": [],
   "source": [
    "# 카운트다운 함수\n",
    "def countdown(i):\n",
    "    print(i)\n",
    "    if i <= 1:    # 기본 단계\n",
    "        return\n",
    "    else:         # 재귀 단계\n",
    "        countdown(i-1)"
   ]
  },
  {
   "cell_type": "code",
   "execution_count": 7,
   "metadata": {},
   "outputs": [
    {
     "name": "stdout",
     "output_type": "stream",
     "text": [
      "5\n",
      "4\n",
      "3\n",
      "2\n",
      "1\n"
     ]
    }
   ],
   "source": [
    "countdown(5)"
   ]
  },
  {
   "cell_type": "markdown",
   "metadata": {},
   "source": [
    "## 04 스택\n",
    "- 푸시(push)와 팝(pop)이라는 두 가지 연산이 있음\n",
    "    - 푸시(push) : 가장 위에 새 항목을 추가한다.\n",
    "    - 팝(pop) : 가장 위의 항목을 떼어내고 읽는다.\n",
    "- 모든 함수 호출은 호출 스택을 사용\n",
    "- 호출 스택은 너무 커져서 메모리를 엄청나게 소비할 수도 있음"
   ]
  },
  {
   "cell_type": "code",
   "execution_count": 12,
   "metadata": {},
   "outputs": [],
   "source": [
    "# 호출 스택\n",
    "def greet(name):\n",
    "    print(\"hello, \" + name + \"!\")\n",
    "    greet2(name)\n",
    "    print(\"getting ready to say bye...\")\n",
    "    bye()\n",
    "    \n",
    "def greet2(name):\n",
    "    print(\"how are you, \" + name + \"?\")\n",
    "    \n",
    "def bye():\n",
    "    print(\"ok bye!\")"
   ]
  },
  {
   "cell_type": "code",
   "execution_count": 16,
   "metadata": {},
   "outputs": [
    {
     "name": "stdout",
     "output_type": "stream",
     "text": [
      "hello, Yunah!\n",
      "how are you, Yunah?\n",
      "getting ready to say bye...\n",
      "ok bye!\n"
     ]
    }
   ],
   "source": [
    "greet(\"Yunah\")"
   ]
  },
  {
   "cell_type": "code",
   "execution_count": 19,
   "metadata": {},
   "outputs": [],
   "source": [
    "# 재귀 함수에서 호출 스택 사용 : 팩토리얼 함수\n",
    "def fact(x):\n",
    "    if x == 1:\n",
    "        return 1\n",
    "    else:\n",
    "        return x * fact(x-1)"
   ]
  },
  {
   "cell_type": "code",
   "execution_count": 20,
   "metadata": {},
   "outputs": [
    {
     "data": {
      "text/plain": [
       "120"
      ]
     },
     "execution_count": 20,
     "metadata": {},
     "output_type": "execute_result"
    }
   ],
   "source": [
    "fact(5)"
   ]
  }
 ],
 "metadata": {
  "kernelspec": {
   "display_name": "Python 3",
   "language": "python",
   "name": "python3"
  },
  "language_info": {
   "codemirror_mode": {
    "name": "ipython",
    "version": 3
   },
   "file_extension": ".py",
   "mimetype": "text/x-python",
   "name": "python",
   "nbconvert_exporter": "python",
   "pygments_lexer": "ipython3",
   "version": "3.6.5"
  }
 },
 "nbformat": 4,
 "nbformat_minor": 2
}
