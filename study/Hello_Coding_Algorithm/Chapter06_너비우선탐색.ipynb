{
 "cells": [
  {
   "attachments": {},
   "cell_type": "markdown",
   "metadata": {},
   "source": [
    "## 02 그래프의 소개\n",
    "- 연결의 집합을 모형화한 것, 항목들이 서로 어떻게 연결되어 있는지를 모형화\n",
    "- 정점과 간선으로 구성\n",
    "- 다른 정점과 바로 이어진 정점을 이웃(neighbor)이라고 함.\n",
    "- 관계에 방향성이 있는 방향 그래프(directed graph), 화살표(방향성)를 가지지 않는 무방향 그래프(undirected graph)\n",
    "- 실행시간 : O(V+E) (V는 정점의 수, E는 간선의 수)\n",
    "\n",
    "![](./img/Breadth-First Search_graph.png)"
   ]
  },
  {
   "cell_type": "markdown",
   "metadata": {},
   "source": [
    "## 03 너비 우선 탐색\n",
    "- 그래프를 대상으로 하는 다른 종류의 탐색 알고리즘\n",
    "- 최단 경로 찾기\n",
    "    - 질문 유형1 : 정점 A에서 정점 B로 가는 경로가 존재하는가?\n",
    "    - 질문 유형2 : 정점 A에서 정점 B로 가는 최단 경로는 무엇인가?\n",
    "- queue(대기열)\n",
    "    - 선입선출(FIFO, First In First Out) 자료구조\n",
    "    - 삽입(enqueue)과 제거(dequeue)라고 하는 두 가지 연산이 있음\n",
    "    - 반대로 스택(stack)은 후입선출(LIFO, Last In First Out) 자료구조"
   ]
  },
  {
   "cell_type": "markdown",
   "metadata": {},
   "source": [
    "## 04 그래프의 구현"
   ]
  },
  {
   "cell_type": "code",
   "execution_count": 13,
   "metadata": {
    "scrolled": false
   },
   "outputs": [],
   "source": [
    "from collections import deque"
   ]
  },
  {
   "cell_type": "code",
   "execution_count": 1,
   "metadata": {},
   "outputs": [],
   "source": [
    "graph = {}\n",
    "graph[\"you\"] = [\"alice\", \"bob\", \"claire\"]\n",
    "graph[\"bob\"] = [\"anuj\", \"peggy\"]\n",
    "graph[\"alice\"] = [\"peggy\"]\n",
    "graph[\"claire\"] = [\"thom\", \"jonny\"]\n",
    "graph[\"anuj\"] = []\n",
    "graph[\"peggy\"] = []\n",
    "graph[\"thom\"] = []\n",
    "graph[\"jonny\"] = []"
   ]
  },
  {
   "cell_type": "markdown",
   "metadata": {},
   "source": [
    "## 05 알고리즘의 구현"
   ]
  },
  {
   "cell_type": "code",
   "execution_count": 2,
   "metadata": {},
   "outputs": [],
   "source": [
    "# 판단 예시: 사람의 이름이 m자로 끝나는지 확인하는 함수 --> 망고 판매상을 판별하는 함수\n",
    "def person_is_seller(name):\n",
    "    return name[-1] == 'm'"
   ]
  },
  {
   "cell_type": "code",
   "execution_count": 14,
   "metadata": {},
   "outputs": [],
   "source": [
    "def search(name):\n",
    "    search_queue = deque()                             # 새 큐를 생성\n",
    "    search_queue += graph[name]                        # 모든 이웃을 탐색 큐에 추가\n",
    "    searched = []                                      # 이미 확인한 사람을 추적하기 위한 것\n",
    "    while search_queue:                                # 큐가 비어 있지 않는 한 계속 실행\n",
    "        person = search_queue.popleft()                # 큐의 첫 번째 사람을 꺼냄\n",
    "        if not person in searched:                     # 이전에 확인하지 않은 사람만 확인\n",
    "            if person_is_seller(person):               # 망고 판매상인지 확인\n",
    "                print(person + \" is a mango seller!\")  # 망고 판매상이 맞음\n",
    "                return True\n",
    "            else:\n",
    "                search_queue += graph[person]          # 망고 판매상이 아님. 모든 이웃을 탐색 목록에 추가\n",
    "                searched.append(person)                # 이 사람을 확인한 것으로 표시\n",
    "    return False                                       # 망고 판매상이 아무도 없다는 의미\n",
    "            "
   ]
  },
  {
   "cell_type": "code",
   "execution_count": 15,
   "metadata": {},
   "outputs": [
    {
     "name": "stdout",
     "output_type": "stream",
     "text": [
      "thom is a mango seller!\n"
     ]
    },
    {
     "data": {
      "text/plain": [
       "True"
      ]
     },
     "execution_count": 15,
     "metadata": {},
     "output_type": "execute_result"
    }
   ],
   "source": [
    "search(\"you\")"
   ]
  }
 ],
 "metadata": {
  "kernelspec": {
   "display_name": "Python 3",
   "language": "python",
   "name": "python3"
  },
  "language_info": {
   "codemirror_mode": {
    "name": "ipython",
    "version": 3
   },
   "file_extension": ".py",
   "mimetype": "text/x-python",
   "name": "python",
   "nbconvert_exporter": "python",
   "pygments_lexer": "ipython3",
   "version": "3.6.5"
  }
 },
 "nbformat": 4,
 "nbformat_minor": 2
}
