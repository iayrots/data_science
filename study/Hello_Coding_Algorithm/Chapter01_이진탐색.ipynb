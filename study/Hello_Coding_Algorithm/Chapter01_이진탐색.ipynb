{
 "cells": [
  {
   "cell_type": "markdown",
   "metadata": {},
   "source": [
    "## 02 이진 탐색\n",
    "- 리스트의 원소들이 정렬되어 있어야함 사용할 수 있다.\n",
    "- 로그 시간(logarithmic time)으로 실행된다. --> O(log n)\n",
    "- 원소의 개수가 커질수록 단순 탐색보다 훨씬 빨라진다."
   ]
  },
  {
   "cell_type": "code",
   "execution_count": 2,
   "metadata": {},
   "outputs": [],
   "source": [
    "# 이진 탐색\n",
    "\n",
    "def binary_search(list, item):\n",
    "    low = 0\n",
    "    high = len(list) - 1\n",
    "    \n",
    "    while low <= high:\n",
    "        mid = (low + high) // 2\n",
    "        guess = list[mid]\n",
    "        if guess == item:\n",
    "            return mid\n",
    "        elif guess > item:\n",
    "            high = mid - 1\n",
    "        else:\n",
    "            low = mid + 1\n",
    "    return None"
   ]
  },
  {
   "cell_type": "code",
   "execution_count": 3,
   "metadata": {},
   "outputs": [
    {
     "name": "stdout",
     "output_type": "stream",
     "text": [
      "1\n"
     ]
    }
   ],
   "source": [
    "myls = [1, 3, 5, 7, 9]\n",
    "print(binary_search(myls, 3))"
   ]
  },
  {
   "cell_type": "code",
   "execution_count": 4,
   "metadata": {},
   "outputs": [
    {
     "name": "stdout",
     "output_type": "stream",
     "text": [
      "None\n"
     ]
    }
   ],
   "source": [
    "myls = [1, 3, 5, 7, 9]\n",
    "print(binary_search(myls, 2))"
   ]
  },
  {
   "cell_type": "markdown",
   "metadata": {},
   "source": [
    "## 03 빅오 표기법\n",
    "- 알고리즘이 얼마나 빠른지 표시하는 특별한 방법\n",
    "    - O(log n), 로그 시간 : 이진 탐색\n",
    "    - O(n),선형 시간 : 단순 탐색\n",
    "    - O(n * log n) : 퀵 정렬과 같이 빠른 정렬 알고리즘\n",
    "    - O(n_2) : 선택 정렬과 같이 느린 정렬 알고리즘\n",
    "    - O(n!) : 외판원 문제와 같이 정말 느린 알고리즘\n",
    "- 알고리즘의 속도는 시간이 아니라 연산 횟수가 어떻게 증가하는지로 측정"
   ]
  }
 ],
 "metadata": {
  "kernelspec": {
   "display_name": "Python 3",
   "language": "python",
   "name": "python3"
  },
  "language_info": {
   "codemirror_mode": {
    "name": "ipython",
    "version": 3
   },
   "file_extension": ".py",
   "mimetype": "text/x-python",
   "name": "python",
   "nbconvert_exporter": "python",
   "pygments_lexer": "ipython3",
   "version": "3.6.5"
  }
 },
 "nbformat": 4,
 "nbformat_minor": 2
}
