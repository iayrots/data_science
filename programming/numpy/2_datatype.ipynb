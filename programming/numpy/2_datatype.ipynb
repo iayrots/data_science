{
 "cells": [
  {
   "cell_type": "markdown",
   "metadata": {},
   "source": [
    "### Datatype\n",
    "- boolean : bool\n",
    "- integer : int64\n",
    "- float : float64\n",
    "- byte String : S24\n",
    "- unicode String : U24"
   ]
  },
  {
   "cell_type": "code",
   "execution_count": 1,
   "metadata": {},
   "outputs": [],
   "source": [
    "import numpy as np"
   ]
  },
  {
   "cell_type": "code",
   "execution_count": 2,
   "metadata": {},
   "outputs": [
    {
     "data": {
      "text/plain": [
       "dtype('bool')"
      ]
     },
     "execution_count": 2,
     "metadata": {},
     "output_type": "execute_result"
    }
   ],
   "source": [
    "na = np.array([True, False])  \n",
    "na.dtype"
   ]
  },
  {
   "cell_type": "code",
   "execution_count": 3,
   "metadata": {},
   "outputs": [
    {
     "data": {
      "text/plain": [
       "dtype('int64')"
      ]
     },
     "execution_count": 3,
     "metadata": {},
     "output_type": "execute_result"
    }
   ],
   "source": [
    "na = np.array([1, 2, 3])   # 한번에 한가지 데이터타입만 사용가능\n",
    "na.dtype"
   ]
  },
  {
   "cell_type": "code",
   "execution_count": 4,
   "metadata": {},
   "outputs": [
    {
     "data": {
      "text/plain": [
       "dtype('float64')"
      ]
     },
     "execution_count": 4,
     "metadata": {},
     "output_type": "execute_result"
    }
   ],
   "source": [
    "na = np.array([1.0, 2.0, 3.0])\n",
    "na.dtype"
   ]
  },
  {
   "cell_type": "markdown",
   "metadata": {},
   "source": [
    "##### change datatype"
   ]
  },
  {
   "cell_type": "code",
   "execution_count": 5,
   "metadata": {},
   "outputs": [
    {
     "name": "stdout",
     "output_type": "stream",
     "text": [
      "[-1.   0.   1.   2.2  3.8]\n",
      "[-1  0  1  2  3]\n",
      "[ True False  True  True  True]\n",
      "[b'True' b'False' b'True' b'True' b'True']\n",
      "['True' 'False' 'True' 'True' 'True']\n"
     ]
    }
   ],
   "source": [
    "na = np.array([-1.0, 0.0, 1.0, 2.2, 3.8])\n",
    "print(na)\n",
    "\n",
    "na = na.astype('int64')\n",
    "print(na)\n",
    "\n",
    "na = na.astype('bool')\n",
    "print(na)\n",
    "\n",
    "na = na.astype('S24')\n",
    "print(na)\n",
    "\n",
    "na = na.astype('U24')\n",
    "print(na)"
   ]
  },
  {
   "cell_type": "markdown",
   "metadata": {},
   "source": [
    "##### 5~10까지 랜덤한 숫자가 들어있는 5*5 행렬 만들기"
   ]
  },
  {
   "cell_type": "code",
   "execution_count": 7,
   "metadata": {
    "scrolled": false
   },
   "outputs": [
    {
     "name": "stdout",
     "output_type": "stream",
     "text": [
      "[[0.96592487 0.08343522 0.54017096 0.97069635 0.54344663]\n",
      " [0.11935112 0.94379807 0.87298343 0.46422832 0.2976807 ]\n",
      " [0.18970584 0.31281618 0.3924082  0.18093057 0.47253386]\n",
      " [0.63641209 0.34573242 0.34769268 0.41822795 0.30584009]\n",
      " [0.11032719 0.53813538 0.05605993 0.86764061 0.4442148 ]]\n"
     ]
    }
   ],
   "source": [
    "# 1.  \n",
    "na = np.random.rand(5,5)\n",
    "print(na)"
   ]
  },
  {
   "cell_type": "code",
   "execution_count": 8,
   "metadata": {
    "scrolled": true
   },
   "outputs": [
    {
     "data": {
      "text/plain": [
       "array([[10.7955492 ,  5.50061132,  8.24102575, 10.82417807,  8.26067976],\n",
       "       [ 5.71610671, 10.6627884 , 10.23790055,  7.78536989,  6.7860842 ],\n",
       "       [ 6.13823506,  6.87689706,  7.35444923,  6.08558345,  7.83520317],\n",
       "       [ 8.81847256,  7.07439453,  7.08615609,  7.50936767,  6.83504055],\n",
       "       [ 5.66196312,  8.22881227,  5.33635959, 10.20584365,  7.66528879]])"
      ]
     },
     "execution_count": 8,
     "metadata": {},
     "output_type": "execute_result"
    }
   ],
   "source": [
    "na*6+5"
   ]
  },
  {
   "cell_type": "code",
   "execution_count": 9,
   "metadata": {},
   "outputs": [
    {
     "name": "stdout",
     "output_type": "stream",
     "text": [
      "[[10  5  8 10  8]\n",
      " [ 5 10 10  7  6]\n",
      " [ 6  6  7  6  7]\n",
      " [ 8  7  7  7  6]\n",
      " [ 5  8  5 10  7]]\n"
     ]
    }
   ],
   "source": [
    "na = (na*6+5).astype('int64')\n",
    "print(na)"
   ]
  },
  {
   "cell_type": "code",
   "execution_count": 10,
   "metadata": {},
   "outputs": [
    {
     "name": "stdout",
     "output_type": "stream",
     "text": [
      "[[10  8  7  7  8]\n",
      " [ 9  9  6  6 10]\n",
      " [ 7  8 10  8  8]\n",
      " [ 5  5  5  9  6]\n",
      " [10 10  7 10  7]]\n"
     ]
    }
   ],
   "source": [
    "# 2. 간단한 방법\n",
    "na2 = np.random.randint(5, 11, size=(5, 5))\n",
    "print(na2)"
   ]
  }
 ],
 "metadata": {
  "kernelspec": {
   "display_name": "Python 3",
   "language": "python",
   "name": "python3"
  },
  "language_info": {
   "codemirror_mode": {
    "name": "ipython",
    "version": 3
   },
   "file_extension": ".py",
   "mimetype": "text/x-python",
   "name": "python",
   "nbconvert_exporter": "python",
   "pygments_lexer": "ipython3",
   "version": "3.6.5"
  }
 },
 "nbformat": 4,
 "nbformat_minor": 2
}
