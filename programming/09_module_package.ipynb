{
 "cells": [
  {
   "cell_type": "markdown",
   "metadata": {},
   "source": [
    "##### Module\n",
    "- 함수, 변수, 클래스를 모아놓은 파일\n",
    "- pep8 module name\n",
    "    - 모듈(Module) 명은 짧은 소문자로 구성되며 필요하다면 밑줄로 나눕니다.\n",
    "    - C/C++ 확장 모듈은 밑줄로 시작합니다."
   ]
  },
  {
   "cell_type": "markdown",
   "metadata": {},
   "source": [
    "##### make module "
   ]
  },
  {
   "cell_type": "code",
   "execution_count": 1,
   "metadata": {},
   "outputs": [
    {
     "name": "stdout",
     "output_type": "stream",
     "text": [
      "Overwriting dsm_f.py\n"
     ]
    }
   ],
   "source": [
    "# dsm_f.py 모듈 파일 생성\n",
    "%%writefile dsm_f.py\n",
    "\n",
    "var = 1234\n",
    "\n",
    "def disp1(s):\n",
    "    print(\"dsm_f1:\", s)\n",
    "\n",
    "def disp2(s):\n",
    "    print(\"dsm_f2:\", s)\n",
    "\n",
    "def disp3(s):\n",
    "    print(\"dsm_f3:\", s)\n",
    "    \n",
    "class calc:\n",
    "    def plus(self, *args):\n",
    "        return sum(args)"
   ]
  },
  {
   "cell_type": "markdown",
   "metadata": {},
   "source": [
    "##### 모듈 호출\n",
    "- import"
   ]
  },
  {
   "cell_type": "code",
   "execution_count": 2,
   "metadata": {},
   "outputs": [],
   "source": [
    "# 모듈 호출하기\n",
    "import dsm_f"
   ]
  },
  {
   "cell_type": "code",
   "execution_count": 3,
   "metadata": {},
   "outputs": [
    {
     "name": "stdout",
     "output_type": "stream",
     "text": [
      "Variable   Type      Data/Info\n",
      "------------------------------\n",
      "dsm_f      module    <module 'dsm_f' from '/Us<...>_7/programming/dsm_f.py'>\n"
     ]
    }
   ],
   "source": [
    "%whos"
   ]
  },
  {
   "cell_type": "code",
   "execution_count": 4,
   "metadata": {},
   "outputs": [
    {
     "name": "stdout",
     "output_type": "stream",
     "text": [
      "dsm_f1: test\n"
     ]
    }
   ],
   "source": [
    "# 모듈 함수 호출\n",
    "dsm_f.disp1(\"test\")"
   ]
  },
  {
   "cell_type": "code",
   "execution_count": 5,
   "metadata": {},
   "outputs": [
    {
     "data": {
      "text/plain": [
       "1234"
      ]
     },
     "execution_count": 5,
     "metadata": {},
     "output_type": "execute_result"
    }
   ],
   "source": [
    "# 모듈 변수 호출\n",
    "dsm_f.var"
   ]
  },
  {
   "cell_type": "code",
   "execution_count": 6,
   "metadata": {},
   "outputs": [
    {
     "data": {
      "text/plain": [
       "15"
      ]
     },
     "execution_count": 6,
     "metadata": {},
     "output_type": "execute_result"
    }
   ],
   "source": [
    "# 모듈 클래스 호출\n",
    "c = dsm_f.calc()    # 선언을 먼저해서 새로운 문자에 할당한 뒤에 호출을 한다!! \n",
    "c.plus(1,2,3,4,5)"
   ]
  },
  {
   "cell_type": "markdown",
   "metadata": {},
   "source": [
    "- alias\n",
    "    - 모듈 호출해서 이름 바꿔주기"
   ]
  },
  {
   "cell_type": "code",
   "execution_count": 7,
   "metadata": {},
   "outputs": [
    {
     "name": "stdout",
     "output_type": "stream",
     "text": [
      "dsm_f1: test1\n",
      "dsm_f2: test2\n",
      "dsm_f3: test2\n"
     ]
    }
   ],
   "source": [
    "import dsm_f as dsm\n",
    "dsm.disp1(\"test1\")\n",
    "dsm.disp2(\"test2\")\n",
    "dsm.disp3(\"test2\")"
   ]
  },
  {
   "cell_type": "markdown",
   "metadata": {},
   "source": [
    "- 모듈에 있는 함수만 호출하기\n",
    "    - from 모듈 import 함수, 클래스, 변수, 등등 (원하는 거 골라서 나열)"
   ]
  },
  {
   "cell_type": "code",
   "execution_count": 8,
   "metadata": {},
   "outputs": [],
   "source": [
    "from dsm_f import disp1, disp2     # from 모듈 import 함수, 클래스, 변수(원하는거 골라서 나열)"
   ]
  },
  {
   "cell_type": "code",
   "execution_count": 9,
   "metadata": {},
   "outputs": [
    {
     "name": "stdout",
     "output_type": "stream",
     "text": [
      "Variable   Type        Data/Info\n",
      "--------------------------------\n",
      "c          calc        <dsm_f.calc object at 0x112400470>\n",
      "disp1      function    <function disp1 at 0x11232c378>\n",
      "disp2      function    <function disp2 at 0x1123d3d90>\n",
      "dsm        module      <module 'dsm_f' from '/Us<...>_7/programming/dsm_f.py'>\n",
      "dsm_f      module      <module 'dsm_f' from '/Us<...>_7/programming/dsm_f.py'>\n"
     ]
    }
   ],
   "source": [
    "%whos"
   ]
  },
  {
   "cell_type": "code",
   "execution_count": 10,
   "metadata": {},
   "outputs": [
    {
     "name": "stdout",
     "output_type": "stream",
     "text": [
      "dsm_f1: test1\n",
      "dsm_f2: test2\n"
     ]
    }
   ],
   "source": [
    "disp1(\"test1\")\n",
    "disp2(\"test2\")"
   ]
  },
  {
   "cell_type": "code",
   "execution_count": 11,
   "metadata": {
    "scrolled": true
   },
   "outputs": [
    {
     "ename": "NameError",
     "evalue": "name 'disp3' is not defined",
     "output_type": "error",
     "traceback": [
      "\u001b[0;31m---------------------------------------------------------------------------\u001b[0m",
      "\u001b[0;31mNameError\u001b[0m                                 Traceback (most recent call last)",
      "\u001b[0;32m<ipython-input-11-cddba046224e>\u001b[0m in \u001b[0;36m<module>\u001b[0;34m()\u001b[0m\n\u001b[0;32m----> 1\u001b[0;31m \u001b[0mdisp3\u001b[0m\u001b[0;34m(\u001b[0m\u001b[0;34m\"test3\"\u001b[0m\u001b[0;34m)\u001b[0m\u001b[0;34m\u001b[0m\u001b[0m\n\u001b[0m",
      "\u001b[0;31mNameError\u001b[0m: name 'disp3' is not defined"
     ]
    }
   ],
   "source": [
    "disp3(\"test3\")"
   ]
  },
  {
   "cell_type": "markdown",
   "metadata": {},
   "source": [
    "- 모듈의 모든 함수 호출"
   ]
  },
  {
   "cell_type": "code",
   "execution_count": 12,
   "metadata": {},
   "outputs": [],
   "source": [
    "from dsm_f import *"
   ]
  },
  {
   "cell_type": "code",
   "execution_count": 13,
   "metadata": {},
   "outputs": [
    {
     "name": "stdout",
     "output_type": "stream",
     "text": [
      "Variable   Type        Data/Info\n",
      "--------------------------------\n",
      "c          calc        <dsm_f.calc object at 0x112400470>\n",
      "calc       type        <class 'dsm_f.calc'>\n",
      "disp1      function    <function disp1 at 0x11232c378>\n",
      "disp2      function    <function disp2 at 0x1123d3d90>\n",
      "disp3      function    <function disp3 at 0x1123d3d08>\n",
      "dsm        module      <module 'dsm_f' from '/Us<...>_7/programming/dsm_f.py'>\n",
      "dsm_f      module      <module 'dsm_f' from '/Us<...>_7/programming/dsm_f.py'>\n",
      "var        int         1234\n"
     ]
    }
   ],
   "source": [
    "%whos"
   ]
  },
  {
   "cell_type": "code",
   "execution_count": 14,
   "metadata": {},
   "outputs": [
    {
     "name": "stdout",
     "output_type": "stream",
     "text": [
      "dsm_f1: test1\n",
      "dsm_f2: test2\n",
      "dsm_f3: test3\n"
     ]
    }
   ],
   "source": [
    "# dsm_f. 없이 바로 부를 수 있다.\n",
    "disp1(\"test1\")\n",
    "disp2(\"test2\")\n",
    "disp3(\"test3\")"
   ]
  },
  {
   "cell_type": "code",
   "execution_count": 15,
   "metadata": {},
   "outputs": [
    {
     "data": {
      "text/plain": [
       "1234"
      ]
     },
     "execution_count": 15,
     "metadata": {},
     "output_type": "execute_result"
    }
   ],
   "source": [
    "# 모듈 변수 호출\n",
    "var"
   ]
  },
  {
   "cell_type": "code",
   "execution_count": 19,
   "metadata": {},
   "outputs": [
    {
     "data": {
      "text/plain": [
       "14"
      ]
     },
     "execution_count": 19,
     "metadata": {},
     "output_type": "execute_result"
    }
   ],
   "source": [
    "# 모듈 클래스 호출           수정하기!!!!!!!!!!!!\n",
    "calc.plus(1,2,3,4,5)"
   ]
  },
  {
   "cell_type": "markdown",
   "metadata": {},
   "source": [
    "##### Package\n",
    "- 디렉토리와 모듈로 이루어짐 (모듈의 집합)\n",
    "- 디렉토리안에는 __init__.py 가 있어야함: python3.x에서는 없어도 동작에는 문제가 없음."
   ]
  },
  {
   "cell_type": "markdown",
   "metadata": {},
   "source": [
    "**아래와 같은 구조로 되어있는 quiz 디렉토리와 함께 실습**\n",
    "```\n",
    "quiz\n",
    "└── game\n",
    "│   ├── lotto.py\n",
    "│   ├── random_number.py\n",
    "└── star\n",
    "    ├── disp.py\n",
    "```"
   ]
  },
  {
   "cell_type": "code",
   "execution_count": 20,
   "metadata": {},
   "outputs": [],
   "source": [
    "import quiz.game.lotto"
   ]
  },
  {
   "cell_type": "code",
   "execution_count": 21,
   "metadata": {},
   "outputs": [
    {
     "data": {
      "text/plain": [
       "[2, 10, 17, 22, 28, 40]"
      ]
     },
     "execution_count": 21,
     "metadata": {},
     "output_type": "execute_result"
    }
   ],
   "source": [
    "quiz.game.lotto.get_lotto_number()"
   ]
  },
  {
   "cell_type": "markdown",
   "metadata": {},
   "source": [
    "- alias\n",
    "    - 너무 긴 패키지는 alias를 사용해 줄일수 있다."
   ]
  },
  {
   "cell_type": "code",
   "execution_count": 22,
   "metadata": {},
   "outputs": [],
   "source": [
    "import quiz.game.lotto as lotto"
   ]
  },
  {
   "cell_type": "code",
   "execution_count": 23,
   "metadata": {},
   "outputs": [
    {
     "data": {
      "text/plain": [
       "[1, 2, 25, 28, 38, 45]"
      ]
     },
     "execution_count": 23,
     "metadata": {},
     "output_type": "execute_result"
    }
   ],
   "source": [
    "lotto.get_lotto_number()"
   ]
  },
  {
   "cell_type": "markdown",
   "metadata": {},
   "source": [
    "- import시 가장 마지막은 module이여야 한다. (예전,,,,,)\n",
    "- 마지막이 module이 아니어도 가능!!"
   ]
  },
  {
   "cell_type": "code",
   "execution_count": 26,
   "metadata": {},
   "outputs": [],
   "source": [
    "import quiz.game as game"
   ]
  },
  {
   "cell_type": "code",
   "execution_count": 28,
   "metadata": {
    "scrolled": true
   },
   "outputs": [
    {
     "data": {
      "text/plain": [
       "[1, 4, 15, 17, 20, 25]"
      ]
     },
     "execution_count": 28,
     "metadata": {},
     "output_type": "execute_result"
    }
   ],
   "source": [
    "game.lotto.get_lotto_number()"
   ]
  },
  {
   "cell_type": "markdown",
   "metadata": {},
   "source": [
    "- 특정 모듈만 호출"
   ]
  },
  {
   "cell_type": "code",
   "execution_count": 29,
   "metadata": {},
   "outputs": [],
   "source": [
    "from quiz.star import disp  # from을 이용해서 디렉토리 접근 from은 디렉토리까지만 써도 됨."
   ]
  },
  {
   "cell_type": "code",
   "execution_count": 30,
   "metadata": {},
   "outputs": [
    {
     "name": "stdout",
     "output_type": "stream",
     "text": [
      "*\n",
      "**\n",
      "***\n",
      "****\n",
      "*****\n"
     ]
    }
   ],
   "source": [
    "disp.disp_star1(5)"
   ]
  },
  {
   "cell_type": "markdown",
   "metadata": {},
   "source": [
    "- 특정 함수만 호출"
   ]
  },
  {
   "cell_type": "code",
   "execution_count": 31,
   "metadata": {},
   "outputs": [],
   "source": [
    "from quiz.star.disp import disp_star3, disp_star4 # from 뒤에는 모듈이든 디렉토리든 바로 상위까지 불러야함."
   ]
  },
  {
   "cell_type": "code",
   "execution_count": 32,
   "metadata": {},
   "outputs": [
    {
     "name": "stdout",
     "output_type": "stream",
     "text": [
      "  *\n",
      " ***\n",
      "*****\n"
     ]
    }
   ],
   "source": [
    "disp_star3(5)"
   ]
  },
  {
   "cell_type": "code",
   "execution_count": 33,
   "metadata": {
    "scrolled": false
   },
   "outputs": [
    {
     "name": "stdout",
     "output_type": "stream",
     "text": [
      "*******\n",
      " *****\n",
      "  ***\n",
      "   *\n"
     ]
    }
   ],
   "source": [
    "disp_star4(7)"
   ]
  },
  {
   "cell_type": "markdown",
   "metadata": {},
   "source": [
    "- **모듈 경로 찾기**"
   ]
  },
  {
   "cell_type": "code",
   "execution_count": 34,
   "metadata": {},
   "outputs": [],
   "source": [
    "import sys"
   ]
  },
  {
   "cell_type": "code",
   "execution_count": 35,
   "metadata": {},
   "outputs": [
    {
     "name": "stdout",
     "output_type": "stream",
     "text": [
      "\n",
      "/usr/local/Cellar/python/3.6.5/Frameworks/Python.framework/Versions/3.6/lib/python36.zip\n",
      "/usr/local/Cellar/python/3.6.5/Frameworks/Python.framework/Versions/3.6/lib/python3.6\n",
      "/usr/local/Cellar/python/3.6.5/Frameworks/Python.framework/Versions/3.6/lib/python3.6/lib-dynload\n",
      "/usr/local/lib/python3.6/site-packages\n",
      "/usr/local/lib/python3.6/site-packages/IPython/extensions\n",
      "/Users/yunah/.ipython\n"
     ]
    }
   ],
   "source": [
    "for place in sys.path:\n",
    "    print(place)"
   ]
  },
  {
   "cell_type": "code",
   "execution_count": 38,
   "metadata": {
    "scrolled": false
   },
   "outputs": [
    {
     "name": "stdout",
     "output_type": "stream",
     "text": [
      "LICENSE.txt                       mailcap.py\r\n",
      "__future__.py                     mimetypes.py\r\n",
      "__phello__.foo.py                 modulefinder.py\r\n",
      "\u001b[34m__pycache__\u001b[m\u001b[m                       \u001b[34mmultiprocessing\u001b[m\u001b[m\r\n",
      "_bootlocale.py                    netrc.py\r\n",
      "_collections_abc.py               nntplib.py\r\n",
      "_compat_pickle.py                 ntpath.py\r\n",
      "_compression.py                   nturl2path.py\r\n",
      "_dummy_thread.py                  numbers.py\r\n",
      "_markupbase.py                    opcode.py\r\n",
      "_osx_support.py                   operator.py\r\n",
      "_pydecimal.py                     optparse.py\r\n",
      "_pyio.py                          os.py\r\n",
      "_sitebuiltins.py                  pathlib.py\r\n",
      "_strptime.py                      \u001b[31mpdb.py\u001b[m\u001b[m\r\n",
      "_sysconfigdata_m_darwin_darwin.py pickle.py\r\n",
      "_threading_local.py               pickletools.py\r\n",
      "_weakrefset.py                    pipes.py\r\n",
      "abc.py                            pkgutil.py\r\n",
      "aifc.py                           \u001b[31mplatform.py\u001b[m\u001b[m\r\n",
      "antigravity.py                    plistlib.py\r\n",
      "argparse.py                       poplib.py\r\n",
      "ast.py                            posixpath.py\r\n",
      "asynchat.py                       pprint.py\r\n",
      "\u001b[34masyncio\u001b[m\u001b[m                           \u001b[31mprofile.py\u001b[m\u001b[m\r\n",
      "asyncore.py                       pstats.py\r\n",
      "\u001b[31mbase64.py\u001b[m\u001b[m                         pty.py\r\n",
      "bdb.py                            py_compile.py\r\n",
      "binhex.py                         pyclbr.py\r\n",
      "bisect.py                         pydoc.py\r\n",
      "bz2.py                            \u001b[34mpydoc_data\u001b[m\u001b[m\r\n",
      "\u001b[31mcProfile.py\u001b[m\u001b[m                       queue.py\r\n",
      "calendar.py                       \u001b[31mquopri.py\u001b[m\u001b[m\r\n",
      "\u001b[31mcgi.py\u001b[m\u001b[m                            random.py\r\n",
      "cgitb.py                          re.py\r\n",
      "chunk.py                          reprlib.py\r\n",
      "cmd.py                            rlcompleter.py\r\n",
      "code.py                           runpy.py\r\n",
      "codecs.py                         sched.py\r\n",
      "codeop.py                         secrets.py\r\n",
      "\u001b[34mcollections\u001b[m\u001b[m                       selectors.py\r\n",
      "colorsys.py                       shelve.py\r\n",
      "compileall.py                     shlex.py\r\n",
      "\u001b[34mconcurrent\u001b[m\u001b[m                        shutil.py\r\n",
      "\u001b[34mconfig-3.6m-darwin\u001b[m\u001b[m                signal.py\r\n",
      "configparser.py                   \u001b[35msite-packages\u001b[m\u001b[m\r\n",
      "contextlib.py                     site.py\r\n",
      "copy.py                           \u001b[31msmtpd.py\u001b[m\u001b[m\r\n",
      "copyreg.py                        \u001b[31msmtplib.py\u001b[m\u001b[m\r\n",
      "crypt.py                          sndhdr.py\r\n",
      "csv.py                            socket.py\r\n",
      "\u001b[34mctypes\u001b[m\u001b[m                            socketserver.py\r\n",
      "\u001b[34mcurses\u001b[m\u001b[m                            \u001b[34msqlite3\u001b[m\u001b[m\r\n",
      "datetime.py                       sre_compile.py\r\n",
      "\u001b[34mdbm\u001b[m\u001b[m                               sre_constants.py\r\n",
      "decimal.py                        sre_parse.py\r\n",
      "difflib.py                        ssl.py\r\n",
      "dis.py                            stat.py\r\n",
      "\u001b[34mdistutils\u001b[m\u001b[m                         statistics.py\r\n",
      "doctest.py                        string.py\r\n",
      "dummy_threading.py                stringprep.py\r\n",
      "\u001b[34memail\u001b[m\u001b[m                             struct.py\r\n",
      "\u001b[34mencodings\u001b[m\u001b[m                         subprocess.py\r\n",
      "\u001b[34mensurepip\u001b[m\u001b[m                         sunau.py\r\n",
      "enum.py                           \u001b[31msymbol.py\u001b[m\u001b[m\r\n",
      "filecmp.py                        symtable.py\r\n",
      "fileinput.py                      sysconfig.py\r\n",
      "fnmatch.py                        \u001b[31mtabnanny.py\u001b[m\u001b[m\r\n",
      "formatter.py                      \u001b[31mtarfile.py\u001b[m\u001b[m\r\n",
      "fractions.py                      telnetlib.py\r\n",
      "ftplib.py                         tempfile.py\r\n",
      "functools.py                      \u001b[34mtest\u001b[m\u001b[m\r\n",
      "genericpath.py                    textwrap.py\r\n",
      "getopt.py                         this.py\r\n",
      "getpass.py                        threading.py\r\n",
      "gettext.py                        \u001b[31mtimeit.py\u001b[m\u001b[m\r\n",
      "glob.py                           \u001b[34mtkinter\u001b[m\u001b[m\r\n",
      "gzip.py                           token.py\r\n",
      "hashlib.py                        tokenize.py\r\n",
      "heapq.py                          \u001b[31mtrace.py\u001b[m\u001b[m\r\n",
      "hmac.py                           traceback.py\r\n",
      "\u001b[34mhtml\u001b[m\u001b[m                              tracemalloc.py\r\n",
      "\u001b[34mhttp\u001b[m\u001b[m                              tty.py\r\n",
      "\u001b[34midlelib\u001b[m\u001b[m                           turtle.py\r\n",
      "imaplib.py                        \u001b[34mturtledemo\u001b[m\u001b[m\r\n",
      "imghdr.py                         types.py\r\n",
      "imp.py                            typing.py\r\n",
      "\u001b[34mimportlib\u001b[m\u001b[m                         \u001b[34munittest\u001b[m\u001b[m\r\n",
      "inspect.py                        \u001b[34murllib\u001b[m\u001b[m\r\n",
      "io.py                             \u001b[31muu.py\u001b[m\u001b[m\r\n",
      "ipaddress.py                      uuid.py\r\n",
      "\u001b[34mjson\u001b[m\u001b[m                              \u001b[34mvenv\u001b[m\u001b[m\r\n",
      "\u001b[31mkeyword.py\u001b[m\u001b[m                        warnings.py\r\n",
      "\u001b[34mlib-dynload\u001b[m\u001b[m                       wave.py\r\n",
      "\u001b[34mlib2to3\u001b[m\u001b[m                           weakref.py\r\n",
      "linecache.py                      \u001b[31mwebbrowser.py\u001b[m\u001b[m\r\n",
      "locale.py                         \u001b[34mwsgiref\u001b[m\u001b[m\r\n",
      "\u001b[34mlogging\u001b[m\u001b[m                           xdrlib.py\r\n",
      "lzma.py                           \u001b[34mxml\u001b[m\u001b[m\r\n",
      "macpath.py                        \u001b[34mxmlrpc\u001b[m\u001b[m\r\n",
      "macurl2path.py                    zipapp.py\r\n",
      "mailbox.py                        zipfile.py\r\n"
     ]
    }
   ],
   "source": [
    "!ls /usr/local/Cellar/python/3.6.5/Frameworks/Python.framework/Versions/3.6/lib/python3.6"
   ]
  },
  {
   "cell_type": "code",
   "execution_count": 39,
   "metadata": {
    "scrolled": true
   },
   "outputs": [
    {
     "name": "stdout",
     "output_type": "stream",
     "text": [
      "\u001b[34mIPython\u001b[m\u001b[m                            \u001b[34mnotebook\u001b[m\u001b[m\r\n",
      "\u001b[34mJinja2-2.10.dist-info\u001b[m\u001b[m              \u001b[34mnotebook-5.5.0.dist-info\u001b[m\u001b[m\r\n",
      "\u001b[34mMarkupSafe-1.0.dist-info\u001b[m\u001b[m           \u001b[34mpandocfilters-1.4.2.dist-info\u001b[m\u001b[m\r\n",
      "\u001b[34mPygments-2.2.0.dist-info\u001b[m\u001b[m           pandocfilters.py\r\n",
      "\u001b[34mSend2Trash-1.5.0.dist-info\u001b[m\u001b[m         \u001b[34mparso\u001b[m\u001b[m\r\n",
      "\u001b[34m__pycache__\u001b[m\u001b[m                        \u001b[34mparso-0.2.1.dist-info\u001b[m\u001b[m\r\n",
      "\u001b[34mappnope\u001b[m\u001b[m                            \u001b[34mpexpect\u001b[m\u001b[m\r\n",
      "\u001b[34mappnope-0.1.0.dist-info\u001b[m\u001b[m            \u001b[34mpexpect-4.6.0.dist-info\u001b[m\u001b[m\r\n",
      "\u001b[34mbackcall\u001b[m\u001b[m                           \u001b[34mpickleshare-0.7.4.dist-info\u001b[m\u001b[m\r\n",
      "\u001b[34mbackcall-0.1.0.dist-info\u001b[m\u001b[m           pickleshare.py\r\n",
      "\u001b[34mbleach\u001b[m\u001b[m                             \u001b[34mpip\u001b[m\u001b[m\r\n",
      "\u001b[34mbleach-2.1.3.dist-info\u001b[m\u001b[m             \u001b[34mpip-10.0.1-py3.6.egg-info\u001b[m\u001b[m\r\n",
      "\u001b[34mdateutil\u001b[m\u001b[m                           \u001b[34mpkg_resources\u001b[m\u001b[m\r\n",
      "\u001b[34mdecorator-4.3.0.dist-info\u001b[m\u001b[m          \u001b[34mprompt_toolkit\u001b[m\u001b[m\r\n",
      "decorator.py                       \u001b[34mprompt_toolkit-1.0.15.dist-info\u001b[m\u001b[m\r\n",
      "easy_install.py                    \u001b[34mptyprocess\u001b[m\u001b[m\r\n",
      "\u001b[34mentrypoints-0.2.3.dist-info\u001b[m\u001b[m        \u001b[34mptyprocess-0.5.2.dist-info\u001b[m\u001b[m\r\n",
      "entrypoints.py                     \u001b[34mpygments\u001b[m\u001b[m\r\n",
      "\u001b[34mhtml5lib\u001b[m\u001b[m                           \u001b[34mpython_dateutil-2.7.3.dist-info\u001b[m\u001b[m\r\n",
      "\u001b[34mhtml5lib-1.0.1.dist-info\u001b[m\u001b[m           \u001b[34mpyzmq-17.0.0.dist-info\u001b[m\u001b[m\r\n",
      "\u001b[34mipykernel\u001b[m\u001b[m                          \u001b[34mqtconsole\u001b[m\u001b[m\r\n",
      "\u001b[34mipykernel-4.8.2.dist-info\u001b[m\u001b[m          \u001b[34mqtconsole-4.3.1.dist-info\u001b[m\u001b[m\r\n",
      "ipykernel_launcher.py              \u001b[34msend2trash\u001b[m\u001b[m\r\n",
      "\u001b[34mipython-6.4.0.dist-info\u001b[m\u001b[m            \u001b[34msetuptools\u001b[m\u001b[m\r\n",
      "\u001b[34mipython_genutils\u001b[m\u001b[m                   \u001b[34msetuptools-39.0.1-py3.6.egg-info\u001b[m\u001b[m\r\n",
      "\u001b[34mipython_genutils-0.2.0.dist-info\u001b[m\u001b[m   \u001b[34msimplegeneric-0.8.1.dist-info\u001b[m\u001b[m\r\n",
      "\u001b[34mipywidgets\u001b[m\u001b[m                         simplegeneric.py\r\n",
      "\u001b[34mipywidgets-7.2.1.dist-info\u001b[m\u001b[m         sitecustomize.py\r\n",
      "\u001b[34mjedi\u001b[m\u001b[m                               \u001b[34msix-1.11.0.dist-info\u001b[m\u001b[m\r\n",
      "\u001b[34mjedi-0.12.0.dist-info\u001b[m\u001b[m              six.py\r\n",
      "\u001b[34mjinja2\u001b[m\u001b[m                             \u001b[34mterminado\u001b[m\u001b[m\r\n",
      "\u001b[34mjsonschema\u001b[m\u001b[m                         \u001b[34mterminado-0.8.1.dist-info\u001b[m\u001b[m\r\n",
      "\u001b[34mjsonschema-2.6.0.dist-info\u001b[m\u001b[m         \u001b[34mtestpath\u001b[m\u001b[m\r\n",
      "\u001b[34mjupyter-1.0.0.dist-info\u001b[m\u001b[m            \u001b[34mtestpath-0.3.1.dist-info\u001b[m\u001b[m\r\n",
      "jupyter.py                         \u001b[34mtornado\u001b[m\u001b[m\r\n",
      "\u001b[34mjupyter_client\u001b[m\u001b[m                     \u001b[34mtornado-5.0.2.dist-info\u001b[m\u001b[m\r\n",
      "\u001b[34mjupyter_client-5.2.3.dist-info\u001b[m\u001b[m     \u001b[34mtraitlets\u001b[m\u001b[m\r\n",
      "\u001b[34mjupyter_console\u001b[m\u001b[m                    \u001b[34mtraitlets-4.3.2.dist-info\u001b[m\u001b[m\r\n",
      "\u001b[34mjupyter_console-5.2.0.dist-info\u001b[m\u001b[m    \u001b[34mwcwidth\u001b[m\u001b[m\r\n",
      "\u001b[34mjupyter_core\u001b[m\u001b[m                       \u001b[34mwcwidth-0.1.7.dist-info\u001b[m\u001b[m\r\n",
      "\u001b[34mjupyter_core-4.4.0.dist-info\u001b[m\u001b[m       \u001b[34mwebencodings\u001b[m\u001b[m\r\n",
      "\u001b[34mmarkupsafe\u001b[m\u001b[m                         \u001b[34mwebencodings-0.5.1.dist-info\u001b[m\u001b[m\r\n",
      "\u001b[34mmistune-0.8.3.dist-info\u001b[m\u001b[m            \u001b[34mwheel\u001b[m\u001b[m\r\n",
      "mistune.py                         \u001b[34mwheel-0.31.0-py3.6.egg-info\u001b[m\u001b[m\r\n",
      "\u001b[34mnbconvert\u001b[m\u001b[m                          \u001b[34mwidgetsnbextension\u001b[m\u001b[m\r\n",
      "\u001b[34mnbconvert-5.3.1.dist-info\u001b[m\u001b[m          \u001b[34mwidgetsnbextension-3.2.1.dist-info\u001b[m\u001b[m\r\n",
      "\u001b[34mnbformat\u001b[m\u001b[m                           \u001b[34mzmq\u001b[m\u001b[m\r\n",
      "\u001b[34mnbformat-4.4.0.dist-info\u001b[m\u001b[m\r\n"
     ]
    }
   ],
   "source": [
    "!ls /usr/local/lib/python3.6/site-packages"
   ]
  }
 ],
 "metadata": {
  "kernelspec": {
   "display_name": "Python 3",
   "language": "python",
   "name": "python3"
  },
  "language_info": {
   "codemirror_mode": {
    "name": "ipython",
    "version": 3
   },
   "file_extension": ".py",
   "mimetype": "text/x-python",
   "name": "python",
   "nbconvert_exporter": "python",
   "pygments_lexer": "ipython3",
   "version": "3.6.5"
  }
 },
 "nbformat": 4,
 "nbformat_minor": 2
}
